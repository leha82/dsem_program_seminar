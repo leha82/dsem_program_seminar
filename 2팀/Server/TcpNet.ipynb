{
 "cells": [
  {
   "cell_type": "code",
   "execution_count": 1,
   "metadata": {},
   "outputs": [],
   "source": [
    "# 외부 모듈 socket 사용함으로 설치해줄 것\n",
    "# 다른 버전의 PYthon 작동은 확인 안 해봄 \n",
    "import socket\n",
    "Receive_Buffersize = 4096\n",
    "class TcpNet:\n",
    "    def __init__(self): # 생성자\n",
    "        self.com_socket=socket.socket() # 소켓객체생성\n",
    "        self.Connection=self.com_socket # 소캣이랑 연결하기\n",
    "    def Accept(self,IP,Port): # 주소랑 포트에 열어주기\n",
    "        self.com_socket.bind((IP,Port))\n",
    "        self.com_socket.listen(10);\n",
    "        self.Connection, self.address = self.com_socket.accept()\n",
    "    def Connect(self,IP,Port): # 그 주소의 포트에 연결하기\n",
    "        self.com_socket.connect((IP,Port))\n",
    "    def Send(self,bdta): # 보내기 (binary) 형식임으로 주의할 것\n",
    "        self.Conncetion.send(bdta) \n",
    "    def SendStr(self,Str1): # 보내기 String 형식으로 보내기\n",
    "        self.Connection.send(bytes(Str1,\"UTF-8\"))\n",
    "    def Receive(self): # 받기 (binary) 형식임으로 주의할 것\n",
    "        return self.Connection.recv(Receive_Buffersize)\n",
    "    def ReceiveStr(self): # 받기 String 형식으로 받기\n",
    "        return self.Connection.recv(Receive_Buffersize).decode(\"UTF-8\")\n",
    "    def Socket_close(self): # 소켓 닫기 (미완성)\n",
    "        self.address.close()"
   ]
  }
 ],
 "metadata": {
  "kernelspec": {
   "display_name": "Python 3",
   "language": "python",
   "name": "python3"
  },
  "language_info": {
   "codemirror_mode": {
    "name": "ipython",
    "version": 3
   },
   "file_extension": ".py",
   "mimetype": "text/x-python",
   "name": "python",
   "nbconvert_exporter": "python",
   "pygments_lexer": "ipython3",
   "version": "3.8.3"
  }
 },
 "nbformat": 4,
 "nbformat_minor": 4
}
